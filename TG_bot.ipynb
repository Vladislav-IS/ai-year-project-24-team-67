{
  "nbformat": 4,
  "nbformat_minor": 0,
  "metadata": {
    "colab": {
      "provenance": []
    },
    "kernelspec": {
      "name": "python3",
      "display_name": "Python 3"
    },
    "language_info": {
      "name": "python"
    }
  },
  "cells": [
    {
      "cell_type": "markdown",
      "source": [
        "Ссылка на бота: https://t.me/TestYearProjectBot"
      ],
      "metadata": {
        "id": "kRPdUU0uxQ4u"
      }
    },
    {
      "cell_type": "code",
      "source": [
        "# ссылки общедоступные\n",
        "!gdown 1smER4yXJPN_KAQfua25kmDiNSnrtGF2F\n",
        "!gdown 1KiYpxgmCb1w9e280qy6LxfzLg5d93W26"
      ],
      "metadata": {
        "colab": {
          "base_uri": "https://localhost:8080/"
        },
        "id": "UEzL9NvBxOJu",
        "outputId": "b0ae4091-c865-4af3-c3eb-e7dede7981e6"
      },
      "execution_count": 1,
      "outputs": [
        {
          "output_type": "stream",
          "name": "stdout",
          "text": [
            "Downloading...\n",
            "From: https://drive.google.com/uc?id=1smER4yXJPN_KAQfua25kmDiNSnrtGF2F\n",
            "To: /content/eda_higgs.pdf\n",
            "100% 1.07M/1.07M [00:00<00:00, 66.4MB/s]\n",
            "Downloading...\n",
            "From: https://drive.google.com/uc?id=1KiYpxgmCb1w9e280qy6LxfzLg5d93W26\n",
            "To: /content/EDA.md\n",
            "100% 1.36k/1.36k [00:00<00:00, 4.25MB/s]\n"
          ]
        }
      ]
    },
    {
      "cell_type": "code",
      "source": [
        "!pip install aiogram==3.4.0"
      ],
      "metadata": {
        "colab": {
          "base_uri": "https://localhost:8080/"
        },
        "id": "AvUwjK1X-zfC",
        "outputId": "c54f8458-a808-4981-9108-e0caa1d14436"
      },
      "execution_count": 2,
      "outputs": [
        {
          "output_type": "stream",
          "name": "stdout",
          "text": [
            "Requirement already satisfied: aiogram==3.4.0 in /usr/local/lib/python3.10/dist-packages (3.4.0)\n",
            "Requirement already satisfied: aiofiles~=23.2.1 in /usr/local/lib/python3.10/dist-packages (from aiogram==3.4.0) (23.2.1)\n",
            "Requirement already satisfied: aiohttp~=3.9.0 in /usr/local/lib/python3.10/dist-packages (from aiogram==3.4.0) (3.9.5)\n",
            "Requirement already satisfied: certifi>=2023.7.22 in /usr/local/lib/python3.10/dist-packages (from aiogram==3.4.0) (2024.8.30)\n",
            "Requirement already satisfied: magic-filter<1.1,>=1.0.12 in /usr/local/lib/python3.10/dist-packages (from aiogram==3.4.0) (1.0.12)\n",
            "Requirement already satisfied: pydantic<2.6,>=2.4.1 in /usr/local/lib/python3.10/dist-packages (from aiogram==3.4.0) (2.5.3)\n",
            "Requirement already satisfied: typing-extensions<=5.0,>=4.7.0 in /usr/local/lib/python3.10/dist-packages (from aiogram==3.4.0) (4.12.2)\n",
            "Requirement already satisfied: aiosignal>=1.1.2 in /usr/local/lib/python3.10/dist-packages (from aiohttp~=3.9.0->aiogram==3.4.0) (1.3.1)\n",
            "Requirement already satisfied: attrs>=17.3.0 in /usr/local/lib/python3.10/dist-packages (from aiohttp~=3.9.0->aiogram==3.4.0) (24.2.0)\n",
            "Requirement already satisfied: frozenlist>=1.1.1 in /usr/local/lib/python3.10/dist-packages (from aiohttp~=3.9.0->aiogram==3.4.0) (1.5.0)\n",
            "Requirement already satisfied: multidict<7.0,>=4.5 in /usr/local/lib/python3.10/dist-packages (from aiohttp~=3.9.0->aiogram==3.4.0) (6.1.0)\n",
            "Requirement already satisfied: yarl<2.0,>=1.0 in /usr/local/lib/python3.10/dist-packages (from aiohttp~=3.9.0->aiogram==3.4.0) (1.17.0)\n",
            "Requirement already satisfied: async-timeout<5.0,>=4.0 in /usr/local/lib/python3.10/dist-packages (from aiohttp~=3.9.0->aiogram==3.4.0) (4.0.3)\n",
            "Requirement already satisfied: annotated-types>=0.4.0 in /usr/local/lib/python3.10/dist-packages (from pydantic<2.6,>=2.4.1->aiogram==3.4.0) (0.7.0)\n",
            "Requirement already satisfied: pydantic-core==2.14.6 in /usr/local/lib/python3.10/dist-packages (from pydantic<2.6,>=2.4.1->aiogram==3.4.0) (2.14.6)\n",
            "Requirement already satisfied: idna>=2.0 in /usr/local/lib/python3.10/dist-packages (from yarl<2.0,>=1.0->aiohttp~=3.9.0->aiogram==3.4.0) (3.10)\n",
            "Requirement already satisfied: propcache>=0.2.0 in /usr/local/lib/python3.10/dist-packages (from yarl<2.0,>=1.0->aiohttp~=3.9.0->aiogram==3.4.0) (0.2.0)\n"
          ]
        }
      ]
    },
    {
      "cell_type": "code",
      "source": [
        "token = '7753140188:AAFBJWmvssf1Cqc9K7vNSJRG7Ep8O7xyp-M'"
      ],
      "metadata": {
        "id": "NY_uddg5-yzw"
      },
      "execution_count": 3,
      "outputs": []
    },
    {
      "cell_type": "code",
      "source": [
        "import asyncio\n",
        "#import logging\n",
        "from aiogram import Bot, Dispatcher, F\n",
        "from aiogram.client.default import DefaultBotProperties\n",
        "from aiogram.enums import ParseMode\n",
        "from aiogram.fsm.storage.memory import MemoryStorage\n",
        "from aiogram.filters import CommandStart\n",
        "from aiogram.types import Message, BotCommand, InlineKeyboardMarkup, \\\n",
        "InlineKeyboardButton, CallbackQuery, FSInputFile\n",
        "\n",
        "#logging.basicConfig(filename='logging.log',\n",
        "#                    filemode='a',\n",
        "#                    level=logging.DEBUG,\n",
        "#                    format='%(asctime)s - %(name)s - %(levelname)s - %(message)s')\n",
        "#logger = logging.getLogger(__name__)\n",
        "bot = Bot(token=token, default=DefaultBotProperties(parse_mode=ParseMode.HTML))\n",
        "dp = Dispatcher(storage=MemoryStorage())"
      ],
      "metadata": {
        "id": "qXSLAMsnAIZB"
      },
      "execution_count": 4,
      "outputs": []
    },
    {
      "cell_type": "code",
      "source": [
        "url = 'https://www.kaggle.com/competitions/higgs-boson/data https://www.kaggle.com/competitions/flavours-of-physics/data'\n",
        "\n",
        "eda_buttons = [\n",
        "    [InlineKeyboardButton(text='Higgs Boson', callback_data='higgs')],\n",
        "    [InlineKeyboardButton(text='Finding τ → μμμ', callback_data='mumumu')]\n",
        "    ]\n",
        "\n",
        "higgs_buttons = [\n",
        "    [InlineKeyboardButton(text='Получить выводы по EDA', callback_data='higgs_desc')],\n",
        "    [InlineKeyboardButton(text='Получить PDF-файл', callback_data='higgs_pdf')],\n",
        "    [InlineKeyboardButton(text='Перейти по ссылке на датасет', url=url)]\n",
        "    ]\n",
        "\n",
        "eda_markup = InlineKeyboardMarkup(inline_keyboard=eda_buttons, row_width=1)\n",
        "higgs_markup = InlineKeyboardMarkup(inline_keyboard=higgs_buttons, row_width=1)"
      ],
      "metadata": {
        "id": "4V6gj7NFVwBk"
      },
      "execution_count": 5,
      "outputs": []
    },
    {
      "cell_type": "code",
      "source": [
        "bot_commands = [\n",
        "        BotCommand(command=\"start\", description=\"Запустить бота\"),\n",
        "        BotCommand(command=\"help\", description=\"Помощь\"),\n",
        "        BotCommand(command=\"eda\", description=\"Просмотр EDA\"),\n",
        "    ]"
      ],
      "metadata": {
        "id": "zx5Yk7cbdqJ-"
      },
      "execution_count": 6,
      "outputs": []
    },
    {
      "cell_type": "code",
      "source": [
        "import os\n",
        "\n",
        "@dp.message(CommandStart())\n",
        "async def cmd_start(message: Message):\n",
        "    #logging.info(f'started chat {message.chat.id}')\n",
        "    if os.path.exists('test.txt') and str(message.chat.id) in open('test.txt', 'r').read():\n",
        "        await message.answer('Бот уже запущен!')\n",
        "    else:\n",
        "        open('test.txt', 'a').write(str(message.chat.id) + '\\n')\n",
        "        await message.answer('Доброго времени суток!')\n",
        "\n",
        "@dp.message(F.text == '/eda')\n",
        "async def cmd_eda(message: Message):\n",
        "    #logging.info(f'activated /eda command, chat: {message.chat.id}')\n",
        "    await message.answer('Выберите тип EDA', reply_markup=eda_markup)\n",
        "\n",
        "@dp.message(F.text == '/help')\n",
        "async def cmd_help(message: Message):\n",
        "    #logging.info(f'activated /help command, chat: {message.chat.id}')\n",
        "    await message.answer('\\n'.join(['/' + bot_command.command + ' - ' + bot_command.description\n",
        "                                   for bot_command in bot_commands]))\n",
        "\n",
        "@dp.callback_query(F.data == 'higgs')\n",
        "async def higgs_callback(callback: CallbackQuery):\n",
        "    #logging.info(f'activated higgs callback, chat: {callback.message.chat.id}')\n",
        "    await callback.message.edit_reply_markup()\n",
        "    await callback.message.answer('Выберите нужное действие', reply_markup=higgs_markup)\n",
        "\n",
        "@dp.callback_query(F.data == 'higgs_desc')\n",
        "async def desc_callback(callback: CallbackQuery):\n",
        "    #logging.info(f'activated higgs_desc callback, chat: {callback.message.chat.id}')\n",
        "    await callback.message.edit_reply_markup()\n",
        "    doc = open('EDA.md', 'r')\n",
        "    await callback.message.answer(doc.read())\n",
        "\n",
        "@dp.callback_query(F.data == 'higgs_pdf')\n",
        "async def desc_callback(callback: CallbackQuery):\n",
        "    #logging.info(f'activated higgs_pdf callback, chat: {callback.message.chat.id}')\n",
        "    await callback.message.edit_reply_markup()\n",
        "    await callback.message.answer_document(document=FSInputFile('eda_higgs.pdf'),\n",
        "                                           caption='PDF-файл с EDA (Higgs Boson)')\n",
        "\n",
        "@dp.callback_query(F.data == 'mumumu')\n",
        "async def mumummu_callback(callback: CallbackQuery):\n",
        "    #logging.info(f'activated mumumu callback, chat: {callback.message.chat.id}')\n",
        "    await callback.message.edit_reply_markup()\n",
        "    await callback.message.answer('Данный тип EDA недоступен!')\n",
        "\n",
        "@dp.message()\n",
        "async def cmd_not_found(message: Message):\n",
        "    #logging.info(f'found unknown command, chat: {message.chat.id}')\n",
        "    await message.answer('Введите /help, чтобы получить справку по командам')\n",
        "\n",
        "#async def set_default_commands(bot):\n",
        "#    await bot.set_my_commands(bot_commands)"
      ],
      "metadata": {
        "id": "DELyIQoKDA06"
      },
      "execution_count": 7,
      "outputs": []
    },
    {
      "cell_type": "code",
      "source": [
        "async def main():\n",
        "    #dp.include_router(start_router)\n",
        "    #await set_default_commands(bot)\n",
        "    await bot.delete_webhook(drop_pending_updates=True)\n",
        "    await dp.start_polling(bot)\n",
        "\n",
        "await main()\n",
        "#if __name__ == \"__main__\":\n",
        "#    asyncio.run(main())"
      ],
      "metadata": {
        "id": "No4URIOeA9WV"
      },
      "execution_count": null,
      "outputs": []
    },
    {
      "cell_type": "code",
      "source": [],
      "metadata": {
        "id": "K1aFz4WFDEGR"
      },
      "execution_count": null,
      "outputs": []
    }
  ]
}