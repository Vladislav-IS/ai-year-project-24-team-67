{
 "cells": [
  {
   "cell_type": "code",
   "execution_count": 75,
   "id": "6654ae96-0a7b-4240-94b2-ae185d869c52",
   "metadata": {},
   "outputs": [],
   "source": [
    "import math\n",
    "import pandas as pd\n",
    "import numpy as np\n",
    "from sklearn import linear_model\n",
    "from sklearn import tree\n",
    "from sklearn import metrics\n",
    "from sklearn import preprocessing\n",
    "from sklearn.model_selection import train_test_split\n",
    "from sklearn.preprocessing import OneHotEncoder, StandardScaler\n",
    "from sklearn.pipeline import Pipeline\n",
    "from sklearn.base import BaseEstimator, RegressorMixin\n",
    "from sklearn import metrics\n",
    "import pickle\n",
    "import torch\n",
    "from torch import nn\n",
    "from torch.utils.data import DataLoader, TensorDataset\n",
    "import torch.optim as optim\n",
    "\n",
    "from matplotlib import pyplot as plt\n",
    "from plotly.subplots import make_subplots\n",
    "import plotly.graph_objects as go\n",
    "from tqdm.notebook import tqdm\n",
    "from IPython.display import clear_output\n",
    "\n",
    "import seaborn as sns\n",
    "from sklearn.model_selection import cross_val_score"
   ]
  },
  {
   "cell_type": "code",
   "execution_count": 13,
   "id": "7761beaf-2a1e-457a-b34a-ee0a7b8c81ad",
   "metadata": {},
   "outputs": [
    {
     "data": {
      "text/html": [
       "<div>\n",
       "<style scoped>\n",
       "    .dataframe tbody tr th:only-of-type {\n",
       "        vertical-align: middle;\n",
       "    }\n",
       "\n",
       "    .dataframe tbody tr th {\n",
       "        vertical-align: top;\n",
       "    }\n",
       "\n",
       "    .dataframe thead th {\n",
       "        text-align: right;\n",
       "    }\n",
       "</style>\n",
       "<table border=\"1\" class=\"dataframe\">\n",
       "  <thead>\n",
       "    <tr style=\"text-align: right;\">\n",
       "      <th></th>\n",
       "      <th>EventId</th>\n",
       "      <th>DER_mass_MMC</th>\n",
       "      <th>DER_mass_transverse_met_lep</th>\n",
       "      <th>DER_mass_vis</th>\n",
       "      <th>DER_pt_h</th>\n",
       "      <th>DER_deltaeta_jet_jet</th>\n",
       "      <th>DER_mass_jet_jet</th>\n",
       "      <th>DER_prodeta_jet_jet</th>\n",
       "      <th>DER_deltar_tau_lep</th>\n",
       "      <th>DER_pt_tot</th>\n",
       "      <th>...</th>\n",
       "      <th>PRI_jet_num</th>\n",
       "      <th>PRI_jet_leading_pt</th>\n",
       "      <th>PRI_jet_leading_eta</th>\n",
       "      <th>PRI_jet_leading_phi</th>\n",
       "      <th>PRI_jet_subleading_pt</th>\n",
       "      <th>PRI_jet_subleading_eta</th>\n",
       "      <th>PRI_jet_subleading_phi</th>\n",
       "      <th>PRI_jet_all_pt</th>\n",
       "      <th>Weight</th>\n",
       "      <th>Label</th>\n",
       "    </tr>\n",
       "  </thead>\n",
       "  <tbody>\n",
       "    <tr>\n",
       "      <th>0</th>\n",
       "      <td>100000</td>\n",
       "      <td>138.470</td>\n",
       "      <td>51.655</td>\n",
       "      <td>97.827</td>\n",
       "      <td>27.980</td>\n",
       "      <td>0.91</td>\n",
       "      <td>124.711</td>\n",
       "      <td>2.666</td>\n",
       "      <td>3.064</td>\n",
       "      <td>41.928</td>\n",
       "      <td>...</td>\n",
       "      <td>2</td>\n",
       "      <td>67.435</td>\n",
       "      <td>2.150</td>\n",
       "      <td>0.444</td>\n",
       "      <td>46.062</td>\n",
       "      <td>1.24</td>\n",
       "      <td>-2.475</td>\n",
       "      <td>113.497</td>\n",
       "      <td>0.002653</td>\n",
       "      <td>s</td>\n",
       "    </tr>\n",
       "    <tr>\n",
       "      <th>1</th>\n",
       "      <td>100001</td>\n",
       "      <td>160.937</td>\n",
       "      <td>68.768</td>\n",
       "      <td>103.235</td>\n",
       "      <td>48.146</td>\n",
       "      <td>-999.00</td>\n",
       "      <td>-999.000</td>\n",
       "      <td>-999.000</td>\n",
       "      <td>3.473</td>\n",
       "      <td>2.078</td>\n",
       "      <td>...</td>\n",
       "      <td>1</td>\n",
       "      <td>46.226</td>\n",
       "      <td>0.725</td>\n",
       "      <td>1.158</td>\n",
       "      <td>-999.000</td>\n",
       "      <td>-999.00</td>\n",
       "      <td>-999.000</td>\n",
       "      <td>46.226</td>\n",
       "      <td>2.233584</td>\n",
       "      <td>b</td>\n",
       "    </tr>\n",
       "    <tr>\n",
       "      <th>2</th>\n",
       "      <td>100002</td>\n",
       "      <td>-999.000</td>\n",
       "      <td>162.172</td>\n",
       "      <td>125.953</td>\n",
       "      <td>35.635</td>\n",
       "      <td>-999.00</td>\n",
       "      <td>-999.000</td>\n",
       "      <td>-999.000</td>\n",
       "      <td>3.148</td>\n",
       "      <td>9.336</td>\n",
       "      <td>...</td>\n",
       "      <td>1</td>\n",
       "      <td>44.251</td>\n",
       "      <td>2.053</td>\n",
       "      <td>-2.028</td>\n",
       "      <td>-999.000</td>\n",
       "      <td>-999.00</td>\n",
       "      <td>-999.000</td>\n",
       "      <td>44.251</td>\n",
       "      <td>2.347389</td>\n",
       "      <td>b</td>\n",
       "    </tr>\n",
       "    <tr>\n",
       "      <th>3</th>\n",
       "      <td>100003</td>\n",
       "      <td>143.905</td>\n",
       "      <td>81.417</td>\n",
       "      <td>80.943</td>\n",
       "      <td>0.414</td>\n",
       "      <td>-999.00</td>\n",
       "      <td>-999.000</td>\n",
       "      <td>-999.000</td>\n",
       "      <td>3.310</td>\n",
       "      <td>0.414</td>\n",
       "      <td>...</td>\n",
       "      <td>0</td>\n",
       "      <td>-999.000</td>\n",
       "      <td>-999.000</td>\n",
       "      <td>-999.000</td>\n",
       "      <td>-999.000</td>\n",
       "      <td>-999.00</td>\n",
       "      <td>-999.000</td>\n",
       "      <td>-0.000</td>\n",
       "      <td>5.446378</td>\n",
       "      <td>b</td>\n",
       "    </tr>\n",
       "    <tr>\n",
       "      <th>4</th>\n",
       "      <td>100004</td>\n",
       "      <td>175.864</td>\n",
       "      <td>16.915</td>\n",
       "      <td>134.805</td>\n",
       "      <td>16.405</td>\n",
       "      <td>-999.00</td>\n",
       "      <td>-999.000</td>\n",
       "      <td>-999.000</td>\n",
       "      <td>3.891</td>\n",
       "      <td>16.405</td>\n",
       "      <td>...</td>\n",
       "      <td>0</td>\n",
       "      <td>-999.000</td>\n",
       "      <td>-999.000</td>\n",
       "      <td>-999.000</td>\n",
       "      <td>-999.000</td>\n",
       "      <td>-999.00</td>\n",
       "      <td>-999.000</td>\n",
       "      <td>0.000</td>\n",
       "      <td>6.245333</td>\n",
       "      <td>b</td>\n",
       "    </tr>\n",
       "  </tbody>\n",
       "</table>\n",
       "<p>5 rows × 33 columns</p>\n",
       "</div>"
      ],
      "text/plain": [
       "   EventId  DER_mass_MMC  DER_mass_transverse_met_lep  DER_mass_vis  DER_pt_h  \\\n",
       "0   100000       138.470                       51.655        97.827    27.980   \n",
       "1   100001       160.937                       68.768       103.235    48.146   \n",
       "2   100002      -999.000                      162.172       125.953    35.635   \n",
       "3   100003       143.905                       81.417        80.943     0.414   \n",
       "4   100004       175.864                       16.915       134.805    16.405   \n",
       "\n",
       "   DER_deltaeta_jet_jet  DER_mass_jet_jet  DER_prodeta_jet_jet  \\\n",
       "0                  0.91           124.711                2.666   \n",
       "1               -999.00          -999.000             -999.000   \n",
       "2               -999.00          -999.000             -999.000   \n",
       "3               -999.00          -999.000             -999.000   \n",
       "4               -999.00          -999.000             -999.000   \n",
       "\n",
       "   DER_deltar_tau_lep  DER_pt_tot  ...  PRI_jet_num  PRI_jet_leading_pt  \\\n",
       "0               3.064      41.928  ...            2              67.435   \n",
       "1               3.473       2.078  ...            1              46.226   \n",
       "2               3.148       9.336  ...            1              44.251   \n",
       "3               3.310       0.414  ...            0            -999.000   \n",
       "4               3.891      16.405  ...            0            -999.000   \n",
       "\n",
       "   PRI_jet_leading_eta  PRI_jet_leading_phi  PRI_jet_subleading_pt  \\\n",
       "0                2.150                0.444                 46.062   \n",
       "1                0.725                1.158               -999.000   \n",
       "2                2.053               -2.028               -999.000   \n",
       "3             -999.000             -999.000               -999.000   \n",
       "4             -999.000             -999.000               -999.000   \n",
       "\n",
       "   PRI_jet_subleading_eta  PRI_jet_subleading_phi  PRI_jet_all_pt    Weight  \\\n",
       "0                    1.24                  -2.475         113.497  0.002653   \n",
       "1                 -999.00                -999.000          46.226  2.233584   \n",
       "2                 -999.00                -999.000          44.251  2.347389   \n",
       "3                 -999.00                -999.000          -0.000  5.446378   \n",
       "4                 -999.00                -999.000           0.000  6.245333   \n",
       "\n",
       "   Label  \n",
       "0      s  \n",
       "1      b  \n",
       "2      b  \n",
       "3      b  \n",
       "4      b  \n",
       "\n",
       "[5 rows x 33 columns]"
      ]
     },
     "execution_count": 13,
     "metadata": {},
     "output_type": "execute_result"
    }
   ],
   "source": [
    "df = pd.read_csv('./training.zip')\n",
    "df_test = pd.read_csv('./test.zip')\n",
    "df.head()"
   ]
  },
  {
   "cell_type": "code",
   "execution_count": 14,
   "id": "091ca80d-3de9-4675-981d-69677ce23172",
   "metadata": {},
   "outputs": [
    {
     "data": {
      "text/plain": [
       "(68114, 33)"
      ]
     },
     "execution_count": 14,
     "metadata": {},
     "output_type": "execute_result"
    }
   ],
   "source": [
    "df_nan = df.replace(-999, np.nan)\n",
    "df_notna = df_nan[(df_nan['PRI_jet_leading_pt'].isna() == False) & (df_nan['DER_deltaeta_jet_jet'].isna() == False) & (df_nan['DER_mass_MMC'].isna() == False)]\n",
    "df_notna.shape"
   ]
  },
  {
   "cell_type": "code",
   "execution_count": 15,
   "id": "0e193e83-b17f-4caf-ba16-f61f770615a1",
   "metadata": {},
   "outputs": [
    {
     "data": {
      "text/plain": [
       "Label\n",
       "b    36220\n",
       "s    31894\n",
       "Name: count, dtype: int64"
      ]
     },
     "execution_count": 15,
     "metadata": {},
     "output_type": "execute_result"
    }
   ],
   "source": [
    "df_notna['Label'].value_counts()"
   ]
  },
  {
   "cell_type": "code",
   "execution_count": 214,
   "id": "8dcde2bd-a9d7-46f7-b706-b51722b67956",
   "metadata": {},
   "outputs": [],
   "source": [
    "X = df_notna.values[:, :-2]\n",
    "y = df_notna['Label'].map({'s': 1, 'b': 0}).values.reshape(-1, 1)\n",
    "\n",
    "X_train, X_test, y_train, y_test = train_test_split(X, y, test_size=0.2, random_state=314)\n",
    "X_train, X_val, y_train, y_val = train_test_split(X_train, y_train, test_size=0.2, random_state=314)"
   ]
  },
  {
   "cell_type": "markdown",
   "id": "ccdc2c8b-f726-44b5-b7e2-fd1593b47860",
   "metadata": {},
   "source": [
    "## Построение модели для предсказания целевой переменной сигнала для частиц"
   ]
  },
  {
   "cell_type": "code",
   "execution_count": 215,
   "id": "a179ea35-55fa-4803-83cd-abed1342ad5a",
   "metadata": {},
   "outputs": [],
   "source": [
    "scaler = StandardScaler()\n",
    "X_train_scaled = scaler.fit_transform(X_train)\n",
    "X_test_scaled = scaler.transform(X_test)\n",
    "X_val_scaled = scaler.transform(X_val)"
   ]
  },
  {
   "cell_type": "code",
   "execution_count": 216,
   "id": "43320514-8409-491d-ac00-51349c8705ce",
   "metadata": {},
   "outputs": [],
   "source": [
    "X_train_tensor = torch.from_numpy(X_train_scaled.astype(np.float32))\n",
    "y_train_tensor = torch.from_numpy(y_train.astype(np.float32))\n",
    "X_test_tensor = torch.from_numpy(X_test_scaled.astype(np.float32))\n",
    "y_test_tensor = torch.from_numpy(y_test.astype(np.float32))\n",
    "X_val_tensor = torch.from_numpy(X_val_scaled.astype(np.float32))\n",
    "y_val_tensor = torch.from_numpy(y_val.astype(np.float32))\n",
    "\n",
    "train_dataset = TensorDataset(X_train_tensor, y_train_tensor)\n",
    "test_dataset = TensorDataset(X_test_tensor, y_test_tensor)\n",
    "val_dataset = TensorDataset(X_val_tensor, y_val_tensor)"
   ]
  },
  {
   "cell_type": "code",
   "execution_count": 217,
   "id": "b093b6a0-e5ec-42bb-bae6-c66a9b46cf09",
   "metadata": {},
   "outputs": [],
   "source": [
    "batch_size = 64\n",
    "\n",
    "train_loader = DataLoader(train_dataset, batch_size=batch_size, shuffle=True)\n",
    "test_loader = DataLoader(test_dataset, batch_size=batch_size, shuffle=False)\n",
    "val_loader = DataLoader(val_dataset, batch_size=batch_size, shuffle=True)"
   ]
  },
  {
   "cell_type": "code",
   "execution_count": 218,
   "id": "4fe080ce-404f-44f1-a140-5dcd13683de7",
   "metadata": {},
   "outputs": [],
   "source": [
    "def plot_losses(train_losses, train_metrics, val_losses, val_metrics):\n",
    "    \"\"\"\n",
    "    Plot losses and metrics while training\n",
    "      - train_losses: sequence of train losses\n",
    "      - train_metrics: sequence of train values\n",
    "      - val_losses: sequence of validation losses\n",
    "      - val_metrics: sequence of validation  values\n",
    "    \"\"\"\n",
    "    clear_output()\n",
    "    fig, axs = plt.subplots(1, 2, figsize=(15, 5))\n",
    "    axs[0].plot(range(1, len(train_losses) + 1), train_losses, label=\"train\")\n",
    "    axs[0].plot(range(1, len(val_losses) + 1), val_losses, label=\"val\")\n",
    "    axs[1].plot(range(1, len(train_metrics) + 1), train_metrics, label=\"train\")\n",
    "    axs[1].plot(range(1, len(val_metrics) + 1), val_metrics, label=\"val\")\n",
    "\n",
    "    if max(train_losses) / min(train_losses) > 10:\n",
    "        axs[0].set_yscale(\"log\")\n",
    "\n",
    "    if max(train_metrics) / min(train_metrics) > 10:\n",
    "        axs[0].set_yscale(\"log\")\n",
    "\n",
    "    for ax in axs:\n",
    "        ax.set_xlabel(\"epoch\")\n",
    "        ax.legend()\n",
    "\n",
    "    axs[0].set_ylabel(\"loss\")\n",
    "    axs[1].set_ylabel(\"F1-score\")\n",
    "    plt.show()\n",
    "\n",
    "\n",
    "def train_and_validate(\n",
    "    model,\n",
    "    optimizer,\n",
    "    criterion,\n",
    "    train_loader,\n",
    "    val_loader,\n",
    "    num_epochs,\n",
    "    threshold,\n",
    "    verbose=True,\n",
    "):\n",
    "    train_losses, val_losses = [], []\n",
    "    train_metrics, val_metrics = [], []\n",
    "\n",
    "    for epoch in range(1, num_epochs + 1):\n",
    "        model.train()\n",
    "        running_loss, running_metric = 0, 0\n",
    "        pbar = (\n",
    "            tqdm(train_loader, desc=f\"Training {epoch}/{num_epochs}\")\n",
    "            if verbose\n",
    "            else train_loader\n",
    "        )\n",
    "\n",
    "        for i, (X_batch, y_batch) in enumerate(pbar, 1):\n",
    "            predictions = model(X_batch)\n",
    "            loss = criterion(predictions, y_batch)\n",
    "            optimizer.zero_grad()\n",
    "            loss.backward()\n",
    "            optimizer.step()\n",
    "            with torch.no_grad():\n",
    "                predictions_binary = (predictions >= threshold).type(torch.int)\n",
    "                metric_value = metrics.f1_score(predictions_binary.cpu().numpy(), y_batch.cpu().numpy())\n",
    "                if isinstance(metric_value, torch.Tensor):\n",
    "                    metric_value = metric_value.item()\n",
    "                running_loss += loss.item() * X_batch.shape[0]\n",
    "                running_metric += metric_value * X_batch.shape[0]\n",
    "\n",
    "            if verbose and i % 100 == 0:\n",
    "                pbar.set_postfix({\"loss\": loss.item(), \"F1\": metric_value})\n",
    "\n",
    "        train_losses.append(running_loss / len(train_loader.dataset))\n",
    "        train_metrics.append(running_metric / len(train_loader.dataset))\n",
    "\n",
    "        model.eval()\n",
    "        running_loss, running_metric = 0, 0\n",
    "        pbar = (\n",
    "            tqdm(val_loader, desc=f\"Validating {epoch}/{num_epochs}\")\n",
    "            if verbose\n",
    "            else val_loader\n",
    "        )\n",
    "\n",
    "        for i, (X_batch, y_batch) in enumerate(pbar, 1):\n",
    "            with torch.no_grad():\n",
    "                predictions = model(X_batch)\n",
    "                loss = criterion(predictions, y_batch)\n",
    "                predictions_binary = (predictions >= threshold).type(torch.int)\n",
    "                metric_value = metrics.f1_score(predictions_binary.cpu().numpy(), y_batch.cpu().numpy())\n",
    "                if isinstance(metric_value, torch.Tensor):\n",
    "                    metric_value = metric_value.item()\n",
    "                running_loss += loss.item() * X_batch.shape[0]\n",
    "                running_metric += metric_value * X_batch.shape[0]\n",
    "\n",
    "            if verbose and i % 100 == 0:\n",
    "                pbar.set_postfix({\"loss\": loss.item(), \"F1-score\": metric_value})\n",
    "\n",
    "        val_losses.append(running_loss / len(val_loader.dataset))\n",
    "        val_metrics.append(running_metric / len(val_loader.dataset))\n",
    "\n",
    "        if verbose:\n",
    "            plot_losses(train_losses, train_metrics, val_losses, val_metrics)\n",
    "\n",
    "    if verbose:\n",
    "        print(f\"Validation F1-score: {val_metrics[-1]:.3f}\")\n",
    "\n",
    "    return train_metrics[-1], val_metrics[-1]\n",
    "\n",
    "def eval_model(model, dataloader, criterion, threshold):\n",
    "    model.eval()\n",
    "    running_loss, running_metric = 0, 0\n",
    "    \n",
    "    for X_batch, y_batch in dataloader:\n",
    "        with torch.no_grad():\n",
    "            predictions = model(X_batch)\n",
    "            loss = criterion(predictions, y_batch)\n",
    "            predictions_binary = (predictions >= threshold).type(torch.int)\n",
    "            metric_value = metrics.f1_score(predictions_binary.cpu().numpy(), y_batch.cpu().numpy())\n",
    "            if type(metric_value) == torch.Tensor:\n",
    "                metric_value = metric_value.item()\n",
    "                \n",
    "            running_loss += loss.item() * X_batch.shape[0]\n",
    "            running_metric += metric_value * X_batch.shape[0]\n",
    "            \n",
    "    test_loss = running_loss / len(dataloader.dataset)\n",
    "    test_metric = running_metric / len(dataloader.dataset)\n",
    "    return test_loss, test_metric"
   ]
  },
  {
   "cell_type": "code",
   "execution_count": 219,
   "id": "662ec7a3-2aab-4032-a520-1f7f5388cb02",
   "metadata": {},
   "outputs": [
    {
     "data": {
      "image/png": "[encoded data removed]",
      "text/plain": [
       "<Figure size 1500x500 with 2 Axes>"
      ]
     },
     "metadata": {},
     "output_type": "display_data"
    },
    {
     "name": "stdout",
     "output_type": "stream",
     "text": [
      "Validation F1-score: 0.839\n"
     ]
    },
    {
     "data": {
      "text/plain": [
       "(0.8351242753282916, 0.8385996035857064)"
      ]
     },
     "execution_count": 219,
     "metadata": {},
     "output_type": "execute_result"
    }
   ],
   "source": [
    "class BaselineNetwork(nn.Module):\n",
    "    def __init__(self, input_dim):\n",
    "        super(BaselineNetwork, self).__init__()\n",
    "        self.fc1 = nn.Linear(input_dim, 64)\n",
    "        self.relu = nn.ReLU()\n",
    "        self.fc2 = nn.Linear(64, 32)\n",
    "        self.output = nn.Linear(32, 1)\n",
    "        self.sigmoid = nn.Sigmoid()\n",
    "    \n",
    "    def forward(self, x):\n",
    "        out = self.relu(self.fc1(x))\n",
    "        out = self.relu(self.fc2(out))\n",
    "        out = self.sigmoid(self.output(out))\n",
    "        return out\n",
    "        \n",
    "# Обучение\n",
    "input_dim = X.shape[1]\n",
    "baseline_model = BaselineNetwork(input_dim).to(torch.device('cpu'))\n",
    "\n",
    "criterion = nn.BCELoss()\n",
    "optimizer = optim.Adam(baseline_model.parameters())\n",
    "\n",
    "train_metric_nn, val_metric_nn = train_and_validate(baseline_model, optimizer, criterion, train_loader, val_loader, 10, 0.5)\n",
    "train_metric_nn, val_metric_nn"
   ]
  },
  {
   "cell_type": "markdown",
   "id": "f0d0d78f-9114-46ce-816f-142ff7edae10",
   "metadata": {},
   "source": [
    "## Выстраиваем более сложную архитектуру, пытаемся добиться лучших значений метрики"
   ]
  },
  {
   "cell_type": "code",
   "execution_count": 220,
   "id": "8385e4c8-3cf4-4970-864f-79dad9807001",
   "metadata": {},
   "outputs": [
    {
     "data": {
      "image/png": "[encoded data removed]",
      "text/plain": [
       "<Figure size 1500x500 with 2 Axes>"
      ]
     },
     "metadata": {},
     "output_type": "display_data"
    },
    {
     "name": "stdout",
     "output_type": "stream",
     "text": [
      "Validation F1-score: 0.835\n"
     ]
    },
    {
     "data": {
      "text/plain": [
       "(0.8316697824125261, 0.8351434511488083)"
      ]
     },
     "execution_count": 220,
     "metadata": {},
     "output_type": "execute_result"
    }
   ],
   "source": [
    "class FinalNetwork(nn.Module):\n",
    "    def __init__(self, input_dim):\n",
    "        super(FinalNetwork, self).__init__()\n",
    "        self.fc1 = nn.Linear(input_dim, 128)\n",
    "        self.relu = nn.ReLU()\n",
    "        self.dropout = nn.Dropout(p=0.2)\n",
    "        self.fc2 = nn.Linear(128, 128)\n",
    "        self.output = nn.Linear(128, 1)\n",
    "        self.sigmoid = nn.Sigmoid()\n",
    "    \n",
    "    def forward(self, x):\n",
    "        out = self.relu(self.fc1(x))\n",
    "        out = self.dropout(out)\n",
    "        out = self.relu(self.fc2(out))\n",
    "        out = self.dropout(out)\n",
    "        out = self.sigmoid(self.output(out))\n",
    "        return out\n",
    "\n",
    "# Обучение\n",
    "input_dim = X.shape[1]\n",
    "final_model = FinalNetwork(input_dim).to(torch.device('cpu'))\n",
    "\n",
    "criterion = nn.BCELoss()\n",
    "optimizer = optim.Adam(final_model.parameters())\n",
    "\n",
    "train_metric_nn, val_metric_nn = train_and_validate(final_model, optimizer, criterion, train_loader, val_loader, 10, 0.5)\n",
    "train_metric_nn, val_metric_nn"
   ]
  },
  {
   "cell_type": "code",
   "execution_count": 221,
   "id": "df2b2742-f2d9-4d52-b1b8-fe29e2f0d07b",
   "metadata": {},
   "outputs": [
    {
     "data": {
      "text/plain": [
       "(0.35079458299243554, 0.8246470627544897)"
      ]
     },
     "execution_count": 221,
     "metadata": {},
     "output_type": "execute_result"
    }
   ],
   "source": [
    "test_loss_nn, test_mse_nn = eval_model(final_model, test_loader, criterion, 0.5)\n",
    "test_loss_nn, test_mse_nn"
   ]
  },
  {
   "cell_type": "code",
   "execution_count": 226,
   "id": "48e95266-e828-47d0-8345-48c7a7f74287",
   "metadata": {},
   "outputs": [
    {
     "name": "stdout",
     "output_type": "stream",
     "text": [
      "13623\n"
     ]
    }
   ],
   "source": [
    "final_model.eval()\n",
    "predictions = []\n",
    "with torch.no_grad():\n",
    "    for data in test_loader:\n",
    "        X_batch = data[0].to(device)\n",
    "        output = final_model(X_batch)\n",
    "        predictions.extend(output.cpu().numpy()) \n",
    "\n",
    "print(len(predictions))"
   ]
  },
  {
   "cell_type": "code",
   "execution_count": 233,
   "id": "7ba086b0-5db5-480b-8f75-5d9877b801b0",
   "metadata": {},
   "outputs": [],
   "source": [
    "y_pred_final = (np.array(predictions) > 0.5).astype(int)"
   ]
  },
  {
   "cell_type": "code",
   "execution_count": 234,
   "id": "26e7ddee-4a08-448d-85d5-6bf4d17eefe8",
   "metadata": {},
   "outputs": [
    {
     "data": {
      "text/plain": [
       "0.8271931936752548"
      ]
     },
     "execution_count": 234,
     "metadata": {},
     "output_type": "execute_result"
    }
   ],
   "source": [
    "metrics.f1_score(y_tree_target, y_pred_final)"
   ]
  },
  {
   "cell_type": "code",
   "execution_count": 235,
   "id": "c31438d2-8d97-4ef9-93c2-fc21cf30e5ab",
   "metadata": {},
   "outputs": [
    {
     "data": {
      "text/plain": [
       "0.841958452616898"
      ]
     },
     "execution_count": 235,
     "metadata": {},
     "output_type": "execute_result"
    }
   ],
   "source": [
    "metrics.accuracy_score(y_tree_target, y_pred_final)"
   ]
  },
  {
   "cell_type": "markdown",
   "id": "63433ccc-e5ab-4b07-8d6a-d961a82e8241",
   "metadata": {},
   "source": [
    "## Альтернативное решение задачи через предсказание веса частиц и последующее предсказание сигнала по весу"
   ]
  },
  {
   "cell_type": "code",
   "execution_count": 163,
   "id": "53ebbc1c-49bd-401d-866a-0c27fcc692e4",
   "metadata": {},
   "outputs": [],
   "source": [
    "def plot_losses(train_losses, train_metrics, val_losses, val_metrics):\n",
    "    \"\"\"\n",
    "    Plot losses and metrics while training\n",
    "      - train_losses: sequence of train losses\n",
    "      - train_metrics: sequence of train MSE values\n",
    "      - val_losses: sequence of validation losses\n",
    "      - val_metrics: sequence of validation MSE values\n",
    "    \"\"\"\n",
    "    clear_output()\n",
    "    fig, axs = plt.subplots(1, 2, figsize=(15, 5))\n",
    "    axs[0].plot(range(1, len(train_losses) + 1), train_losses, label=\"train\")\n",
    "    axs[0].plot(range(1, len(val_losses) + 1), val_losses, label=\"val\")\n",
    "    axs[1].plot(range(1, len(train_metrics) + 1), train_metrics, label=\"train\")\n",
    "    axs[1].plot(range(1, len(val_metrics) + 1), val_metrics, label=\"val\")\n",
    "\n",
    "    if max(train_losses) / min(train_losses) > 10:\n",
    "        axs[0].set_yscale(\"log\")\n",
    "\n",
    "    if max(train_metrics) / min(train_metrics) > 10:\n",
    "        axs[0].set_yscale(\"log\")\n",
    "\n",
    "    for ax in axs:\n",
    "        ax.set_xlabel(\"epoch\")\n",
    "        ax.legend()\n",
    "\n",
    "    axs[0].set_ylabel(\"loss\")\n",
    "    axs[1].set_ylabel(\"MSE\")\n",
    "    plt.show()\n",
    "\n",
    "\n",
    "def train_and_validate(\n",
    "    model,\n",
    "    optimizer,\n",
    "    criterion,\n",
    "    metric,\n",
    "    train_loader,\n",
    "    val_loader,\n",
    "    num_epochs,\n",
    "    verbose=True,\n",
    "):\n",
    "    \"\"\"\n",
    "    Train and validate neural network\n",
    "      - model: neural network to train\n",
    "      - optimizer: optimizer chained to a model\n",
    "      - criterion: loss function class\n",
    "      - metric: function to measure MSE taking neural networks predictions\n",
    "                 and ground truth labels\n",
    "      - train_loader: DataLoader with train set\n",
    "      - val_loader: DataLoader with validation set\n",
    "      - num_epochs: number of epochs to train\n",
    "      - verbose: whether to plot metrics during training\n",
    "    Returns:\n",
    "      - train_mse: training MSE over the last epoch\n",
    "      - val_mse: validation MSE after the last epoch\n",
    "    \"\"\"\n",
    "    train_losses, val_losses = [], []\n",
    "    train_metrics, val_metrics = [], []\n",
    "\n",
    "    for epoch in range(1, num_epochs + 1):\n",
    "        model.train()\n",
    "        running_loss, running_metric = 0, 0\n",
    "        pbar = (\n",
    "            tqdm(train_loader, desc=f\"Training {epoch}/{num_epochs}\")\n",
    "            if verbose\n",
    "            else train_loader\n",
    "        )\n",
    "\n",
    "        for i, (X_batch, y_batch) in enumerate(pbar, 1):\n",
    "            predictions = model(X_batch)\n",
    "            loss = criterion(predictions, y_batch)\n",
    "            optimizer.zero_grad()\n",
    "            loss.backward()\n",
    "            optimizer.step()\n",
    "            with torch.no_grad():\n",
    "                metric_value = metric(predictions, y_batch)\n",
    "                if type(metric_value) == torch.Tensor:\n",
    "                    metric_value = metric_value.item()\n",
    "                running_loss += loss.item() * X_batch.shape[0]\n",
    "                running_metric += metric_value * X_batch.shape[0]\n",
    "\n",
    "            if verbose and i % 100 == 0:\n",
    "                pbar.set_postfix({\"loss\": loss.item(), \"MSE\": metric_value})\n",
    "\n",
    "        train_losses += [running_loss / len(train_loader.dataset)]\n",
    "        train_metrics += [running_metric / len(train_loader.dataset)]\n",
    "\n",
    "        model.eval()\n",
    "        running_loss, running_metric = 0, 0\n",
    "        pbar = (\n",
    "            tqdm(val_loader, desc=f\"Validating {epoch}/{num_epochs}\")\n",
    "            if verbose\n",
    "            else val_loader\n",
    "        )\n",
    "\n",
    "        for i, (X_batch, y_batch) in enumerate(pbar, 1):\n",
    "            with torch.no_grad():\n",
    "                predictions = model(X_batch)\n",
    "                loss = criterion(predictions, y_batch)\n",
    "                metric_value = metric(predictions, y_batch)\n",
    "                if type(metric_value) == torch.Tensor:\n",
    "                    metric_value = metric_value.item()\n",
    "                running_loss += loss.item() * X_batch.shape[0]\n",
    "                running_metric += metric_value * X_batch.shape[0]\n",
    "\n",
    "            if verbose and i % 100 == 0:\n",
    "                pbar.set_postfix({\"loss\": loss.item(), \"MSE\": metric_value})\n",
    "\n",
    "        val_losses += [running_loss / len(val_loader.dataset)]\n",
    "        val_metrics += [running_metric / len(val_loader.dataset)]\n",
    "\n",
    "        if verbose:\n",
    "            plot_losses(train_losses, train_metrics, val_losses, val_metrics)\n",
    "\n",
    "    if verbose:\n",
    "        print(f\"Validation MSE: {val_metrics[-1]:.3f}\")\n",
    "\n",
    "    return train_metrics[-1], val_metrics[-1]"
   ]
  },
  {
   "cell_type": "code",
   "execution_count": 164,
   "id": "0b21ef0e-456d-48a5-8cc3-56defc93870c",
   "metadata": {},
   "outputs": [],
   "source": [
    "X = df_notna.values[:, :-2]\n",
    "y = df_notna['Weight'].values.reshape(-1, 1)\n",
    "\n",
    "X_train, X_test, y_train, y_test = train_test_split(X, y, test_size=0.2, random_state=314)\n",
    "X_train, X_val, y_train, y_val = train_test_split(X_train, y_train, test_size=0.2, random_state=314)"
   ]
  },
  {
   "cell_type": "code",
   "execution_count": 165,
   "id": "b4626280-9f81-42e2-a7c2-b44ef433c930",
   "metadata": {},
   "outputs": [],
   "source": [
    "scaler = StandardScaler()\n",
    "X_train_scaled = scaler.fit_transform(X_train)\n",
    "X_test_scaled = scaler.transform(X_test)\n",
    "X_val_scaled = scaler.transform(X_val)"
   ]
  },
  {
   "cell_type": "code",
   "execution_count": 166,
   "id": "e981a716-a4fa-4723-b9c8-cd25338fa292",
   "metadata": {},
   "outputs": [],
   "source": [
    "X_train_tensor = torch.from_numpy(X_train_scaled.astype(np.float32))\n",
    "y_train_tensor = torch.from_numpy(y_train.astype(np.float32))\n",
    "X_test_tensor = torch.from_numpy(X_test_scaled.astype(np.float32))\n",
    "y_test_tensor = torch.from_numpy(y_test.astype(np.float32))\n",
    "X_val_tensor = torch.from_numpy(X_val_scaled.astype(np.float32))\n",
    "y_val_tensor = torch.from_numpy(y_val.astype(np.float32))\n",
    "\n",
    "train_dataset = TensorDataset(X_train_tensor, y_train_tensor)\n",
    "test_dataset = TensorDataset(X_test_tensor, y_test_tensor)\n",
    "val_dataset = TensorDataset(X_val_tensor, y_val_tensor)"
   ]
  },
  {
   "cell_type": "code",
   "execution_count": 167,
   "id": "855121af-4660-43da-89f7-da7034d9638b",
   "metadata": {},
   "outputs": [],
   "source": [
    "batch_size = 64\n",
    "\n",
    "train_loader = DataLoader(train_dataset, batch_size=batch_size, shuffle=True)\n",
    "test_loader = DataLoader(test_dataset, batch_size=batch_size, shuffle=False)\n",
    "val_loader = DataLoader(val_dataset, batch_size=batch_size, shuffle=True)"
   ]
  },
  {
   "cell_type": "code",
   "execution_count": 204,
   "id": "bbe489e9-2883-45db-b45c-f09b4e6b14c3",
   "metadata": {},
   "outputs": [
    {
     "data": {
      "image/png": "[encoded data removed]",
      "text/plain": [
       "<Figure size 1500x500 with 2 Axes>"
      ]
     },
     "metadata": {},
     "output_type": "display_data"
    },
    {
     "name": "stdout",
     "output_type": "stream",
     "text": [
      "Validation MSE: 0.357\n"
     ]
    },
    {
     "data": {
      "text/plain": [
       "(0.3589704250289576, 0.35694353687007424)"
      ]
     },
     "execution_count": 204,
     "metadata": {},
     "output_type": "execute_result"
    }
   ],
   "source": [
    "class WeightModelNetwork(nn.Module):\n",
    "    def __init__(self, input_dim):\n",
    "        super(WeightModelNetwork, self).__init__()\n",
    "        self.fc1 = nn.Linear(input_dim, 128)\n",
    "        self.dropout = nn.Dropout(p=0.2)\n",
    "        self.relu = nn.ReLU()\n",
    "        self.fc2 = nn.Linear(128, 256)\n",
    "        self.fc3 = nn.Linear(256, 256)\n",
    "        self.output = nn.Linear(256, 1)\n",
    "        self.sigmoid = nn.Sigmoid()\n",
    "    \n",
    "    def forward(self, x):\n",
    "        out = self.relu(self.fc1(x))\n",
    "        out = self.dropout(out)\n",
    "        out = self.relu(self.fc2(out))\n",
    "        out = self.dropout(out)\n",
    "        out = self.relu(self.fc3(out))\n",
    "        out = self.dropout(out)\n",
    "        out = self.sigmoid(self.output(out))\n",
    "        return out\n",
    "\n",
    "input_dim = X.shape[1]\n",
    "weight_model = WeightModelNetwork(input_dim).to(torch.device('cpu'))\n",
    "\n",
    "mse_metric = lambda pred, target: ((pred - target) ** 2).mean().item()\n",
    "criterion = nn.MSELoss()\n",
    "\n",
    "optimizer = optim.Adam(weight_model.parameters(), lr=1e-3)\n",
    "\n",
    "train_mse_nn, val_mse_nn = train_and_validate(weight_model, optimizer, criterion, mse_metric, train_loader, val_loader, 10)\n",
    "train_mse_nn, val_mse_nn"
   ]
  },
  {
   "cell_type": "code",
   "execution_count": 205,
   "id": "1b77f38c-5f39-44a9-baac-3799c67a0b09",
   "metadata": {},
   "outputs": [],
   "source": [
    "X_tree = df_notna['Weight'].values.reshape(-1,1)\n",
    "y_tree = df_notna['Label'].map({'s': 1, 'b': 0}).values.reshape(-1,1)\n",
    "_, _, X_tree_target, y_tree_target = train_test_split(X_tree, y_tree, test_size=0.2, random_state=314)\n",
    "\n",
    "clf = tree.DecisionTreeClassifier()\n",
    "clf = clf.fit(X_tree, y_tree)"
   ]
  },
  {
   "cell_type": "code",
   "execution_count": 206,
   "id": "482c674e-4a91-4879-87cc-53a77a1362ee",
   "metadata": {},
   "outputs": [
    {
     "name": "stdout",
     "output_type": "stream",
     "text": [
      "13623\n"
     ]
    }
   ],
   "source": [
    "weight_model.eval()\n",
    "weight_predictions = []\n",
    "with torch.no_grad():\n",
    "    for data in test_loader:\n",
    "        X_batch = data[0].to(device)\n",
    "        output = weight_model(X_batch)\n",
    "        weight_predictions.extend(output.cpu().numpy()) \n",
    "\n",
    "print(len(weight_predictions))"
   ]
  },
  {
   "cell_type": "code",
   "execution_count": 207,
   "id": "e5fc761f-2abc-4bd5-bf4c-94593dd5710d",
   "metadata": {},
   "outputs": [
    {
     "data": {
      "text/plain": [
       "array([0, 0, 0, ..., 0, 0, 0], shape=(13623,))"
      ]
     },
     "execution_count": 207,
     "metadata": {},
     "output_type": "execute_result"
    }
   ],
   "source": [
    "y_pred = clf.predict(weight_predictions)\n",
    "y_pred"
   ]
  },
  {
   "cell_type": "code",
   "execution_count": 208,
   "id": "01f1ea10-1267-4aba-a44e-1a04b15d3156",
   "metadata": {},
   "outputs": [
    {
     "data": {
      "text/plain": [
       "0.574778130820642"
      ]
     },
     "execution_count": 208,
     "metadata": {},
     "output_type": "execute_result"
    }
   ],
   "source": [
    "metrics.f1_score(y_tree_target, y_pred)"
   ]
  },
  {
   "cell_type": "code",
   "execution_count": 209,
   "id": "667126c0-dbeb-4bb3-82c8-856f0f33a34e",
   "metadata": {},
   "outputs": [
    {
     "data": {
      "text/plain": [
       "0.715114145195625"
      ]
     },
     "execution_count": 209,
     "metadata": {},
     "output_type": "execute_result"
    }
   ],
   "source": [
    "metrics.accuracy_score(y_tree_target, y_pred)"
   ]
  },
  {
   "cell_type": "markdown",
   "id": "980107cd-5347-4bb6-a47f-c20d49453187",
   "metadata": {},
   "source": [
    "## Итоги:\n",
    "\n",
    "Лучшее качество было получено в случае предсказания непосредственно целевой переменной сигнала а не веса частиц.　 "
   ]
  }
 ],
 "metadata": {
  "kernelspec": {
   "display_name": "Python 3 (ipykernel)",
   "language": "python",
   "name": "python3"
  },
  "language_info": {
   "codemirror_mode": {
    "name": "ipython",
    "version": 3
   },
   "file_extension": ".py",
   "mimetype": "text/x-python",
   "name": "python",
   "nbconvert_exporter": "python",
   "pygments_lexer": "ipython3",
   "version": "3.13.1"
  }
 },
 "nbformat": 4,
 "nbformat_minor": 5
}
