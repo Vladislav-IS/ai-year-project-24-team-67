{
 "cells": [
  {
   "cell_type": "code",
   "execution_count": 1,
   "metadata": {},
   "outputs": [],
   "source": [
    "import httpx\n",
    "import pandas as pd\n",
    "import asyncio\n",
    "import json\n",
    "import time"
   ]
  },
  {
   "cell_type": "code",
   "execution_count": 2,
   "metadata": {},
   "outputs": [],
   "source": [
    "# сразу зададим адрес сервера\n",
    "server = 'http://127.0.0.1:8000'"
   ]
  },
  {
   "cell_type": "code",
   "execution_count": 3,
   "metadata": {},
   "outputs": [],
   "source": [
    "# проверка первичного GET-запроса\n",
    "def get_request():\n",
    "    try:\n",
    "        response = httpx.get(server)\n",
    "        if response.status_code != 200:\n",
    "            return f'Ошибка, сообщение от сервера: {response.json()[0]['detail']}'\n",
    "        else:\n",
    "            return f'Запрос выполнен, сообщение от сервера: {response.json()[0]['status']}'\n",
    "    except ConnectionError:\n",
    "        return 'Не удалось подключиться к серверу'"
   ]
  },
  {
   "cell_type": "code",
   "execution_count": 4,
   "metadata": {},
   "outputs": [
    {
     "data": {
      "text/plain": [
       "'Запрос выполнен, сообщение от сервера: App Healty'"
      ]
     },
     "execution_count": 4,
     "metadata": {},
     "output_type": "execute_result"
    }
   ],
   "source": [
    "get_request()"
   ]
  },
  {
   "cell_type": "markdown",
   "metadata": {},
   "source": [
    "Подготовительный этап - реализация функций для загрузки JSON-объектов обучаемых моделей. Реализовал 2 функции:\n",
    "- ручной ввод JSON-объектов через input;\n",
    "- чтение JSON из файла.\n",
    "\n",
    "Эти функции для тестирования запросов от клиента я не использую, но пусть будут. "
   ]
  },
  {
   "cell_type": "code",
   "execution_count": 5,
   "metadata": {},
   "outputs": [],
   "source": [
    "models = None"
   ]
  },
  {
   "cell_type": "markdown",
   "metadata": {},
   "source": [
    "Ячейки ниже можно не запускать."
   ]
  },
  {
   "cell_type": "code",
   "execution_count": 6,
   "metadata": {},
   "outputs": [],
   "source": [
    "# функции для генерации JSON для обучения моделей\n",
    "# все данные нужно вводить через input руками\n",
    "def convert_to_number(x):\n",
    "    try:\n",
    "        x_number = float(x)\n",
    "    except (TypeError, ValueError):\n",
    "        return x\n",
    "    else:\n",
    "        return x_number\n",
    "\n",
    "\n",
    "def config_json():\n",
    "    try:\n",
    "        models = []\n",
    "        n_models = int(input('Количество обучаемых моделей:').strip())\n",
    "        for i in range(n_models):\n",
    "            new_model = {}\n",
    "            data_link = input(f'Путь до датасета ({i+1}-я модель)')\n",
    "            if data_link == '':\n",
    "                raise Exception\n",
    "            target = input(f'Целевая переменная ({i+1}-я модель)')\n",
    "            df = pd.read_csv(data_link)\n",
    "            X = df.drop(target, axis=1).values.tolist()\n",
    "            y = df[target].tolist()\n",
    "            mid = input(f'ID {i+1}-й модели')\n",
    "            if mid == '':\n",
    "                raise Exception\n",
    "            mtype = input(f'Тип {i+1}-й модели')\n",
    "            if mtype == '':\n",
    "                raise Exception\n",
    "            new_model['id'] = mid\n",
    "            new_model['mtype'] = mtype\n",
    "            params = {}\n",
    "            param = input(f\"Параметр {i+1}-й модели и его значение через пробел ('exit' для выхода)\")\n",
    "            while param != 'exit':\n",
    "                key, value = param.split()\n",
    "                params[key] = convert_to_number(value)\n",
    "                param = input(f\"Параметр {i+1}-й модели и его значение через пробел ('exit' для выхода)\")\n",
    "            new_model['hyperparameters'] = params\n",
    "            models.append({'X': X, 'y': y, 'config': new_model})\n",
    "    except:\n",
    "        print('Ошибка ввода')\n",
    "        return None\n",
    "    else:\n",
    "        return models"
   ]
  },
  {
   "cell_type": "code",
   "execution_count": 7,
   "metadata": {},
   "outputs": [
    {
     "name": "stdout",
     "output_type": "stream",
     "text": [
      "Ошибка ввода\n"
     ]
    }
   ],
   "source": [
    "models = config_json()"
   ]
  },
  {
   "cell_type": "code",
   "execution_count": 8,
   "metadata": {},
   "outputs": [],
   "source": [
    "# чтение моделей из файла\n",
    "def read_json():\n",
    "    try:\n",
    "        path_to_json = input('Введите путь до JSON-файла')\n",
    "        with open(path_to_json) as json_data:\n",
    "            models = json.loads(json_data.read())\n",
    "            json_data.close()\n",
    "    except:\n",
    "        print('Ошибка ввода')\n",
    "        return None\n",
    "    else:\n",
    "        return models"
   ]
  },
  {
   "cell_type": "code",
   "execution_count": 9,
   "metadata": {},
   "outputs": [
    {
     "name": "stdout",
     "output_type": "stream",
     "text": [
      "Ошибка ввода\n"
     ]
    }
   ],
   "source": [
    "models = read_json() if models is None else models"
   ]
  },
  {
   "cell_type": "markdown",
   "metadata": {},
   "source": [
    "Ячейки ниже уже надо запускать."
   ]
  },
  {
   "cell_type": "code",
   "execution_count": 10,
   "metadata": {},
   "outputs": [],
   "source": [
    "# генерация примера JSON-объекта (будем использовать эту функцию дальше)\n",
    "def generate_json(n_models):\n",
    "    data = pd.read_csv('csv.csv')\n",
    "    X = data.drop('y', axis=1).values.tolist()\n",
    "    y = data['y'].tolist()\n",
    "    models = []\n",
    "    for i in range(n_models):\n",
    "        mid = f'{i}_{time.time()}'\n",
    "        mtype = 'linear' if not i % 2 else 'logreg'\n",
    "        params = {}\n",
    "        model_config = {'id': mid, 'ml_model_type': mtype, 'hyperparameters': params}\n",
    "        models.append({'X': X, 'y': y, 'config': model_config})\n",
    "    return models      "
   ]
  },
  {
   "cell_type": "markdown",
   "metadata": {},
   "source": [
    "Теперь перейдем к тестированию запросов:"
   ]
  },
  {
   "cell_type": "code",
   "execution_count": 11,
   "metadata": {},
   "outputs": [
    {
     "name": "stdout",
     "output_type": "stream",
     "text": [
      "Model '0_1734438526.9829485' trained and saved\n",
      "Model '1_1734438526.9829485' trained and saved\n",
      "Model '2_1734438526.9829485' trained and saved\n",
      "Model '3_1734438526.9829485' trained and saved\n"
     ]
    },
    {
     "data": {
      "text/plain": [
       "127.34460520744324"
      ]
     },
     "execution_count": 11,
     "metadata": {},
     "output_type": "execute_result"
    }
   ],
   "source": [
    "models = generate_json(4) if models is None else models # генерируем модели, если не вводили руками\n",
    "\n",
    "\n",
    "# запрос на обучение моделей\n",
    "def fit_request(models):\n",
    "    try:\n",
    "        response = httpx.post(server+'/api/v1/models/fit', json=models, timeout=None)\n",
    "        msgs = response.json() \n",
    "        if response.status_code != 200:\n",
    "            return f'Ошибка обучения, сообщение от сервера: {response.json()['detail']}'\n",
    "        else:\n",
    "            res = []\n",
    "            for msg in msgs:\n",
    "                res.append(f'{msg['message']}')\n",
    "            return '\\n'.join(res)\n",
    "    except:\n",
    "        return 'Ошибка обучения на стороне клиента'\n",
    "\n",
    "\n",
    "# посмотрим, сколько времени занимает последовательный вызов\n",
    "start = time.time()\n",
    "print(fit_request(models[:2]))\n",
    "print(fit_request(models[2:]))\n",
    "time.time() - start"
   ]
  },
  {
   "cell_type": "code",
   "execution_count": 12,
   "metadata": {},
   "outputs": [
    {
     "name": "stdout",
     "output_type": "stream",
     "text": [
      "Model '0_1734438654.3473003' trained and saved\n",
      "Model '1_1734438654.3473003' trained and saved\n",
      "Model '2_1734438654.3473003' trained and saved\n",
      "Model '3_1734438654.3473003' trained and saved\n"
     ]
    },
    {
     "data": {
      "text/plain": [
       "63.893426179885864"
      ]
     },
     "execution_count": 12,
     "metadata": {},
     "output_type": "execute_result"
    }
   ],
   "source": [
    "# асинхронный вызов fit\n",
    "async def fit_request_async(models_arr):\n",
    "    loop = asyncio.get_running_loop()\n",
    "    tasks = [loop.run_in_executor(None, fit_request, models) for models in models_arr]\n",
    "    return await asyncio.gather(*tasks)\n",
    "\n",
    "\n",
    "models = generate_json(4)\n",
    "start = time.time()\n",
    "msg = await fit_request_async([models[:2], models[2:]])\n",
    "print('\\n'.join(msg))\n",
    "time.time() - start"
   ]
  },
  {
   "cell_type": "markdown",
   "metadata": {},
   "source": [
    "Как и ожидалось, асинхронный вызов оказался примерно в 2 раза быстрее последовательного."
   ]
  },
  {
   "cell_type": "code",
   "execution_count": 13,
   "metadata": {},
   "outputs": [],
   "source": [
    "# Загрузка в инференс\n",
    "def load_request(mid):\n",
    "    response = httpx.post(server+'/api/v1/models/load', json={'id': mid})\n",
    "    if response.status_code != 200:\n",
    "        return f'Ошибка, сообщение от сервера: {response.json()['detail']}'\n",
    "    else:\n",
    "        return f'Запрос выполнен, сообщение от сервера: {response.json()[0]['message']}'"
   ]
  },
  {
   "cell_type": "code",
   "execution_count": 14,
   "metadata": {},
   "outputs": [
    {
     "data": {
      "text/plain": [
       "\"Запрос выполнен, сообщение от сервера: Model '0_1734438654.3473003' loaded\""
      ]
     },
     "execution_count": 14,
     "metadata": {},
     "output_type": "execute_result"
    }
   ],
   "source": [
    "mid0 = models[0]['config']['id']\n",
    "mid1 = models[1]['config']['id']\n",
    "mid2 = models[2]['config']['id']\n",
    "\n",
    "# загрузка в инференс существующей модели\n",
    "load_request(mid0)"
   ]
  },
  {
   "cell_type": "code",
   "execution_count": 15,
   "metadata": {},
   "outputs": [
    {
     "data": {
      "text/plain": [
       "\"Ошибка, сообщение от сервера: Cannot load 'not_exist'\""
      ]
     },
     "execution_count": 15,
     "metadata": {},
     "output_type": "execute_result"
    }
   ],
   "source": [
    "# загрузка в инференс несуществующей модели\n",
    "load_request('not_exist')"
   ]
  },
  {
   "cell_type": "code",
   "execution_count": 16,
   "metadata": {},
   "outputs": [
    {
     "name": "stdout",
     "output_type": "stream",
     "text": [
      "Запрос выполнен, сообщение от сервера: Model '1_1734438654.3473003' loaded\n",
      "Ошибка, сообщение от сервера: Cannot load '2_1734438654.3473003'\n"
     ]
    }
   ],
   "source": [
    "# загрузка в инференс сверх ограничения на количество\n",
    "print(load_request(mid1))\n",
    "print(load_request(mid2))"
   ]
  },
  {
   "cell_type": "code",
   "execution_count": 17,
   "metadata": {},
   "outputs": [],
   "source": [
    "# выгрузка из инференса\n",
    "def unload_request(mid):\n",
    "    response = httpx.post(server+'/api/v1/models/unload', json={'id': mid})\n",
    "    if response.status_code != 200:\n",
    "        return f'Ошибка, сообщение от сервера: {response.json()['detail']}'\n",
    "    else:\n",
    "        return f'Запрос выполнен, сообщение от сервера: {response.json()[0]['message']}'"
   ]
  },
  {
   "cell_type": "code",
   "execution_count": 18,
   "metadata": {},
   "outputs": [
    {
     "data": {
      "text/plain": [
       "\"Запрос выполнен, сообщение от сервера: Model '0_1734438654.3473003' unloaded\""
      ]
     },
     "execution_count": 18,
     "metadata": {},
     "output_type": "execute_result"
    }
   ],
   "source": [
    "# выгрузка существующей модели\n",
    "unload_request(mid0)"
   ]
  },
  {
   "cell_type": "code",
   "execution_count": 19,
   "metadata": {},
   "outputs": [
    {
     "data": {
      "text/plain": [
       "\"Ошибка, сообщение от сервера: Cannot unload 'not_exist'\""
      ]
     },
     "execution_count": 19,
     "metadata": {},
     "output_type": "execute_result"
    }
   ],
   "source": [
    "# выгрузка несуществующей модели\n",
    "unload_request('not_exist')"
   ]
  },
  {
   "cell_type": "code",
   "execution_count": 20,
   "metadata": {},
   "outputs": [],
   "source": [
    "# получение состояния инференса\n",
    "def get_status_request():\n",
    "    response = httpx.get(server+'/api/v1/models/get_status')\n",
    "    if response.status_code != 200:\n",
    "        return f'Ошибка, сообщение от сервера: {response.json()['detail']}'\n",
    "    else:\n",
    "        return f'Запрос выполнен, сообщение от сервера: {response.json()[0]['status']}'"
   ]
  },
  {
   "cell_type": "code",
   "execution_count": 21,
   "metadata": {},
   "outputs": [
    {
     "data": {
      "text/plain": [
       "'Запрос выполнен, сообщение от сервера: Model Status 1_1734438654.3473003 Ready'"
      ]
     },
     "execution_count": 21,
     "metadata": {},
     "output_type": "execute_result"
    }
   ],
   "source": [
    "get_status_request()"
   ]
  },
  {
   "cell_type": "code",
   "execution_count": 22,
   "metadata": {},
   "outputs": [],
   "source": [
    "# получение списка моделей с их типами\n",
    "def list_models_request():\n",
    "    res = []\n",
    "    response = httpx.get(server+'/api/v1/models/list_models')\n",
    "    if response.status_code != 200:\n",
    "        return f'Ошибка, сообщение от сервера: {response.json()['detail']}'\n",
    "    else:\n",
    "        models = response.json()[0]['models']\n",
    "        for model in models:\n",
    "            res += [f'Модель {model['id']}, тип {model['type']}']\n",
    "        return '\\n'.join(res)"
   ]
  },
  {
   "cell_type": "code",
   "execution_count": 23,
   "metadata": {},
   "outputs": [
    {
     "name": "stdout",
     "output_type": "stream",
     "text": [
      "Модель 0_1734438289.468694, тип linear\n",
      "Модель 1_1734438289.468694, тип logreg\n",
      "Модель 2_1734438289.468694, тип linear\n",
      "Модель 3_1734438289.468694, тип logreg\n",
      "Модель 0_1734438392.691605, тип linear\n",
      "Модель 1_1734438392.691605, тип logreg\n",
      "Модель 2_1734438392.691605, тип linear\n",
      "Модель 3_1734438392.691605, тип logreg\n",
      "Модель 0_1734438520.0547235, тип linear\n",
      "Модель 1_1734438520.0547235, тип logreg\n",
      "Модель 2_1734438520.0547235, тип linear\n",
      "Модель 3_1734438520.0547235, тип logreg\n",
      "Модель 0_1734438526.9829485, тип linear\n",
      "Модель 1_1734438526.9829485, тип logreg\n",
      "Модель 2_1734438526.9829485, тип linear\n",
      "Модель 3_1734438526.9829485, тип logreg\n",
      "Модель 0_1734438654.3473003, тип linear\n",
      "Модель 1_1734438654.3473003, тип logreg\n",
      "Модель 2_1734438654.3473003, тип linear\n",
      "Модель 3_1734438654.3473003, тип logreg\n"
     ]
    }
   ],
   "source": [
    "print(list_models_request())"
   ]
  },
  {
   "cell_type": "markdown",
   "metadata": {},
   "source": [
    "Также реализуем функцию для чтения данных для предсказаний из csv-файла:"
   ]
  },
  {
   "cell_type": "code",
   "execution_count": 24,
   "metadata": {},
   "outputs": [],
   "source": [
    "def get_data_for_preds():\n",
    "    try:\n",
    "        data_link = input('Введите путь до файлас  данными')\n",
    "        df = pd.read_csv(data_link)\n",
    "        target = input('Введите целевую переменную, чтобы удалить ее из данных') \n",
    "        if target in df.columns:\n",
    "            df = df.drop(target, axis=1)\n",
    "    except:\n",
    "        return pd.read_csv('csv.csv').drop('y', axis=1).values.tolist()\n",
    "    else:\n",
    "        return df.values.tolist()"
   ]
  },
  {
   "cell_type": "code",
   "execution_count": 25,
   "metadata": {},
   "outputs": [],
   "source": [
    "X = get_data_for_preds()"
   ]
  },
  {
   "cell_type": "markdown",
   "metadata": {},
   "source": [
    "Не совсем понятно с предсказаниями: в условии задания сказано, что для инференса может быть подгружено несеолько моделей. Тогда, по идее, мы имеем право возвращать список предсказний от каждой модели. Но схема данных не предусматривает различение предсказаний по айди моделей в инференсе. "
   ]
  },
  {
   "cell_type": "code",
   "execution_count": 26,
   "metadata": {},
   "outputs": [
    {
     "name": "stdout",
     "output_type": "stream",
     "text": [
      "Предсказания: [[-1.1102230246251565e-16, 0.9999999999999999, 1.0]]\n",
      "Предсказания: [[0.0, 1.0, 1.0]]\n"
     ]
    }
   ],
   "source": [
    "# асинхронное предсказание\n",
    "def predict_request(mid, X):\n",
    "    response = httpx.post(server+'/api/v1/models/predict', json=[{'id': mid, 'X': X}])\n",
    "    preds = []\n",
    "    for r in response.json():\n",
    "        preds.append(r['predictions'])\n",
    "        return f'Предсказания: {preds}'\n",
    "\n",
    "\n",
    "async def predict_request_async(ids, Xs):\n",
    "    loop = asyncio.get_running_loop()\n",
    "    tasks = [loop.run_in_executor(None, predict_request, ids[i], Xs[i]) for i in range(len(ids))]\n",
    "    preds = await asyncio.gather(*tasks)\n",
    "    return '\\n'.join(preds)\n",
    "\n",
    "\n",
    "preds = await predict_request_async([mid0, mid1], [X, X])\n",
    "print(preds)"
   ]
  },
  {
   "cell_type": "code",
   "execution_count": 27,
   "metadata": {},
   "outputs": [],
   "source": [
    "# удаление модели по айди\n",
    "def remove_request(mid):\n",
    "    response = httpx.delete(server+f'/api/v1/models/{mid}')\n",
    "    if response.status_code != 200:\n",
    "        return f'Ошибка, сообщение от сервера: {response.json()['detail']}'\n",
    "    else:\n",
    "        return f'Запрос выполнен, сообщение от сервера: {response.json()['message']}'"
   ]
  },
  {
   "cell_type": "code",
   "execution_count": 28,
   "metadata": {},
   "outputs": [
    {
     "data": {
      "text/plain": [
       "'Ошибка, сообщение от сервера: Not Found'"
      ]
     },
     "execution_count": 28,
     "metadata": {},
     "output_type": "execute_result"
    }
   ],
   "source": [
    "remove_request(mid0)"
   ]
  },
  {
   "cell_type": "code",
   "execution_count": 29,
   "metadata": {},
   "outputs": [
    {
     "data": {
      "text/plain": [
       "\"Запрос выполнен, сообщение от сервера: Model '0_1734438654.3473003' loaded\""
      ]
     },
     "execution_count": 29,
     "metadata": {},
     "output_type": "execute_result"
    }
   ],
   "source": [
    "load_request(mid0)"
   ]
  },
  {
   "cell_type": "code",
   "execution_count": 30,
   "metadata": {},
   "outputs": [],
   "source": [
    "# удаление всех обученных моделей\n",
    "def remove_all_request():\n",
    "    response = httpx.delete(server+f'/api/v1/models/remove_all')\n",
    "    if response.status_code != 200:\n",
    "        return f'Ошибка, сообщение от сервера: {response.json()['detail']}'\n",
    "    else:\n",
    "        res = [msg['message'] for msg in response.json()]\n",
    "        return '\\n'.join(res)"
   ]
  },
  {
   "cell_type": "code",
   "execution_count": 31,
   "metadata": {},
   "outputs": [
    {
     "name": "stdout",
     "output_type": "stream",
     "text": [
      "Model '0_1734438289.468694' removed\n",
      "Model '1_1734438289.468694' removed\n",
      "Model '2_1734438289.468694' removed\n",
      "Model '3_1734438289.468694' removed\n",
      "Model '0_1734438392.691605' removed\n",
      "Model '1_1734438392.691605' removed\n",
      "Model '2_1734438392.691605' removed\n",
      "Model '3_1734438392.691605' removed\n",
      "Model '0_1734438520.0547235' removed\n",
      "Model '1_1734438520.0547235' removed\n",
      "Model '2_1734438520.0547235' removed\n",
      "Model '3_1734438520.0547235' removed\n",
      "Model '0_1734438526.9829485' removed\n",
      "Model '1_1734438526.9829485' removed\n",
      "Model '2_1734438526.9829485' removed\n",
      "Model '3_1734438526.9829485' removed\n",
      "Model '0_1734438654.3473003' removed\n",
      "Model '1_1734438654.3473003' removed\n",
      "Model '2_1734438654.3473003' removed\n",
      "Model '3_1734438654.3473003' removed\n"
     ]
    }
   ],
   "source": [
    "print(remove_all_request())"
   ]
  },
  {
   "cell_type": "code",
   "execution_count": 32,
   "metadata": {},
   "outputs": [
    {
     "name": "stdout",
     "output_type": "stream",
     "text": [
      "\n"
     ]
    }
   ],
   "source": [
    "print(list_models_request())"
   ]
  }
 ],
 "metadata": {
  "kernelspec": {
   "display_name": "Python 3",
   "language": "python",
   "name": "python3"
  },
  "language_info": {
   "codemirror_mode": {
    "name": "ipython",
    "version": 3
   },
   "file_extension": ".py",
   "mimetype": "text/x-python",
   "name": "python",
   "nbconvert_exporter": "python",
   "pygments_lexer": "ipython3",
   "version": "3.12.0"
  }
 },
 "nbformat": 4,
 "nbformat_minor": 2
}
