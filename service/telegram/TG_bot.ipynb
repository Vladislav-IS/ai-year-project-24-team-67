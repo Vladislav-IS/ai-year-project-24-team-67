{
  "nbformat": 4,
  "nbformat_minor": 0,
  "metadata": {
    "colab": {
      "provenance": []
    },
    "kernelspec": {
      "name": "python3",
      "display_name": "Python 3"
    },
    "language_info": {
      "name": "python"
    }
  },
  "cells": [
    {
      "cell_type": "markdown",
      "source": [
        "Ссылка на бота: https://t.me/TestYearProjectBot"
      ],
      "metadata": {
        "id": "kRPdUU0uxQ4u"
      }
    },
    {
      "cell_type": "code",
      "source": [
        "# ссылки общедоступные\n",
        "!gdown 1smER4yXJPN_KAQfua25kmDiNSnrtGF2F\n",
        "!gdown 1KiYpxgmCb1w9e280qy6LxfzLg5d93W26"
      ],
      "metadata": {
        "colab": {
          "base_uri": "https://localhost:8080/"
        },
        "id": "UEzL9NvBxOJu",
        "outputId": "c4d68144-c0f7-4fe2-a07c-b2d4eb769a27"
      },
      "execution_count": 1,
      "outputs": [
        {
          "output_type": "stream",
          "name": "stdout",
          "text": [
            "Downloading...\n",
            "From: https://drive.google.com/uc?id=1smER4yXJPN_KAQfua25kmDiNSnrtGF2F\n",
            "To: /content/eda_higgs.pdf\n",
            "100% 1.07M/1.07M [00:00<00:00, 102MB/s]\n",
            "Downloading...\n",
            "From: https://drive.google.com/uc?id=1KiYpxgmCb1w9e280qy6LxfzLg5d93W26\n",
            "To: /content/EDA.md\n",
            "100% 1.36k/1.36k [00:00<00:00, 5.29MB/s]\n"
          ]
        }
      ]
    },
    {
      "cell_type": "code",
      "source": [
        "!pip install aiogram==3.4.0"
      ],
      "metadata": {
        "colab": {
          "base_uri": "https://localhost:8080/"
        },
        "id": "AvUwjK1X-zfC",
        "outputId": "f134b9d0-6cb8-4b31-cc22-6db92e996f4c"
      },
      "execution_count": 2,
      "outputs": [
        {
          "output_type": "stream",
          "name": "stdout",
          "text": [
            "Collecting aiogram==3.4.0\n",
            "  Downloading aiogram-3.4.0-py3-none-any.whl.metadata (7.2 kB)\n",
            "Collecting aiofiles~=23.2.1 (from aiogram==3.4.0)\n",
            "  Downloading aiofiles-23.2.1-py3-none-any.whl.metadata (9.7 kB)\n",
            "Collecting aiohttp~=3.9.0 (from aiogram==3.4.0)\n",
            "  Downloading aiohttp-3.9.5-cp310-cp310-manylinux_2_17_x86_64.manylinux2014_x86_64.whl.metadata (7.5 kB)\n",
            "Requirement already satisfied: certifi>=2023.7.22 in /usr/local/lib/python3.10/dist-packages (from aiogram==3.4.0) (2024.8.30)\n",
            "Collecting magic-filter<1.1,>=1.0.12 (from aiogram==3.4.0)\n",
            "  Downloading magic_filter-1.0.12-py3-none-any.whl.metadata (1.5 kB)\n",
            "Collecting pydantic<2.6,>=2.4.1 (from aiogram==3.4.0)\n",
            "  Downloading pydantic-2.5.3-py3-none-any.whl.metadata (65 kB)\n",
            "\u001b[2K     \u001b[90m━━━━━━━━━━━━━━━━━━━━━━━━━━━━━━━━━━━━━━━━\u001b[0m \u001b[32m65.6/65.6 kB\u001b[0m \u001b[31m1.4 MB/s\u001b[0m eta \u001b[36m0:00:00\u001b[0m\n",
            "\u001b[?25hRequirement already satisfied: typing-extensions<=5.0,>=4.7.0 in /usr/local/lib/python3.10/dist-packages (from aiogram==3.4.0) (4.12.2)\n",
            "Requirement already satisfied: aiosignal>=1.1.2 in /usr/local/lib/python3.10/dist-packages (from aiohttp~=3.9.0->aiogram==3.4.0) (1.3.1)\n",
            "Requirement already satisfied: attrs>=17.3.0 in /usr/local/lib/python3.10/dist-packages (from aiohttp~=3.9.0->aiogram==3.4.0) (24.2.0)\n",
            "Requirement already satisfied: frozenlist>=1.1.1 in /usr/local/lib/python3.10/dist-packages (from aiohttp~=3.9.0->aiogram==3.4.0) (1.5.0)\n",
            "Requirement already satisfied: multidict<7.0,>=4.5 in /usr/local/lib/python3.10/dist-packages (from aiohttp~=3.9.0->aiogram==3.4.0) (6.1.0)\n",
            "Requirement already satisfied: yarl<2.0,>=1.0 in /usr/local/lib/python3.10/dist-packages (from aiohttp~=3.9.0->aiogram==3.4.0) (1.17.0)\n",
            "Requirement already satisfied: async-timeout<5.0,>=4.0 in /usr/local/lib/python3.10/dist-packages (from aiohttp~=3.9.0->aiogram==3.4.0) (4.0.3)\n",
            "Requirement already satisfied: annotated-types>=0.4.0 in /usr/local/lib/python3.10/dist-packages (from pydantic<2.6,>=2.4.1->aiogram==3.4.0) (0.7.0)\n",
            "Collecting pydantic-core==2.14.6 (from pydantic<2.6,>=2.4.1->aiogram==3.4.0)\n",
            "  Downloading pydantic_core-2.14.6-cp310-cp310-manylinux_2_17_x86_64.manylinux2014_x86_64.whl.metadata (6.5 kB)\n",
            "Requirement already satisfied: idna>=2.0 in /usr/local/lib/python3.10/dist-packages (from yarl<2.0,>=1.0->aiohttp~=3.9.0->aiogram==3.4.0) (3.10)\n",
            "Requirement already satisfied: propcache>=0.2.0 in /usr/local/lib/python3.10/dist-packages (from yarl<2.0,>=1.0->aiohttp~=3.9.0->aiogram==3.4.0) (0.2.0)\n",
            "Downloading aiogram-3.4.0-py3-none-any.whl (513 kB)\n",
            "\u001b[2K   \u001b[90m━━━━━━━━━━━━━━━━━━━━━━━━━━━━━━━━━━━━━━━━\u001b[0m \u001b[32m513.5/513.5 kB\u001b[0m \u001b[31m8.6 MB/s\u001b[0m eta \u001b[36m0:00:00\u001b[0m\n",
            "\u001b[?25hDownloading aiofiles-23.2.1-py3-none-any.whl (15 kB)\n",
            "Downloading aiohttp-3.9.5-cp310-cp310-manylinux_2_17_x86_64.manylinux2014_x86_64.whl (1.2 MB)\n",
            "\u001b[2K   \u001b[90m━━━━━━━━━━━━━━━━━━━━━━━━━━━━━━━━━━━━━━━━\u001b[0m \u001b[32m1.2/1.2 MB\u001b[0m \u001b[31m25.2 MB/s\u001b[0m eta \u001b[36m0:00:00\u001b[0m\n",
            "\u001b[?25hDownloading magic_filter-1.0.12-py3-none-any.whl (11 kB)\n",
            "Downloading pydantic-2.5.3-py3-none-any.whl (381 kB)\n",
            "\u001b[2K   \u001b[90m━━━━━━━━━━━━━━━━━━━━━━━━━━━━━━━━━━━━━━━━\u001b[0m \u001b[32m381.9/381.9 kB\u001b[0m \u001b[31m21.5 MB/s\u001b[0m eta \u001b[36m0:00:00\u001b[0m\n",
            "\u001b[?25hDownloading pydantic_core-2.14.6-cp310-cp310-manylinux_2_17_x86_64.manylinux2014_x86_64.whl (2.1 MB)\n",
            "\u001b[2K   \u001b[90m━━━━━━━━━━━━━━━━━━━━━━━━━━━━━━━━━━━━━━━━\u001b[0m \u001b[32m2.1/2.1 MB\u001b[0m \u001b[31m38.4 MB/s\u001b[0m eta \u001b[36m0:00:00\u001b[0m\n",
            "\u001b[?25hInstalling collected packages: pydantic-core, magic-filter, aiofiles, pydantic, aiohttp, aiogram\n",
            "  Attempting uninstall: pydantic-core\n",
            "    Found existing installation: pydantic_core 2.23.4\n",
            "    Uninstalling pydantic_core-2.23.4:\n",
            "      Successfully uninstalled pydantic_core-2.23.4\n",
            "  Attempting uninstall: pydantic\n",
            "    Found existing installation: pydantic 2.9.2\n",
            "    Uninstalling pydantic-2.9.2:\n",
            "      Successfully uninstalled pydantic-2.9.2\n",
            "  Attempting uninstall: aiohttp\n",
            "    Found existing installation: aiohttp 3.10.10\n",
            "    Uninstalling aiohttp-3.10.10:\n",
            "      Successfully uninstalled aiohttp-3.10.10\n",
            "\u001b[31mERROR: pip's dependency resolver does not currently take into account all the packages that are installed. This behaviour is the source of the following dependency conflicts.\n",
            "albumentations 1.4.20 requires pydantic>=2.7.0, but you have pydantic 2.5.3 which is incompatible.\n",
            "langchain 0.3.4 requires pydantic<3.0.0,>=2.7.4, but you have pydantic 2.5.3 which is incompatible.\u001b[0m\u001b[31m\n",
            "\u001b[0mSuccessfully installed aiofiles-23.2.1 aiogram-3.4.0 aiohttp-3.9.5 magic-filter-1.0.12 pydantic-2.5.3 pydantic-core-2.14.6\n"
          ]
        }
      ]
    },
    {
      "cell_type": "code",
      "source": [
        "token = '7753140188:AAFBJWmvssf1Cqc9K7vNSJRG7Ep8O7xyp-M'"
      ],
      "metadata": {
        "id": "NY_uddg5-yzw"
      },
      "execution_count": 3,
      "outputs": []
    },
    {
      "cell_type": "code",
      "source": [
        "import asyncio\n",
        "#import logging\n",
        "from aiogram import Bot, Dispatcher, F\n",
        "from aiogram.client.default import DefaultBotProperties\n",
        "from aiogram.enums import ParseMode\n",
        "from aiogram.fsm.storage.memory import MemoryStorage\n",
        "from aiogram.filters import CommandStart\n",
        "from aiogram.types import Message, BotCommand, InlineKeyboardMarkup, \\\n",
        "InlineKeyboardButton, CallbackQuery, FSInputFile\n",
        "\n",
        "#logging.basicConfig(filename='logging.log',\n",
        "#                    filemode='a',\n",
        "#                    level=logging.DEBUG,\n",
        "#                    format='%(asctime)s - %(name)s - %(levelname)s - %(message)s')\n",
        "#logger = logging.getLogger(__name__)\n",
        "bot = Bot(token=token, default=DefaultBotProperties(parse_mode=ParseMode.HTML))\n",
        "dp = Dispatcher(storage=MemoryStorage())"
      ],
      "metadata": {
        "id": "qXSLAMsnAIZB"
      },
      "execution_count": 4,
      "outputs": []
    },
    {
      "cell_type": "code",
      "source": [
        "url = 'https://www.kaggle.com/competitions/higgs-boson/data https://www.kaggle.com/competitions/flavours-of-physics/data'\n",
        "\n",
        "eda_buttons = [\n",
        "    [InlineKeyboardButton(text='Higgs Boson', callback_data='higgs')],\n",
        "    [InlineKeyboardButton(text='Finding τ → μμμ', callback_data='mumumu')]\n",
        "    ]\n",
        "\n",
        "higgs_buttons = [\n",
        "    [InlineKeyboardButton(text='Получить выводы по EDA', callback_data='higgs_desc')],\n",
        "    [InlineKeyboardButton(text='Получить PDF-файл', callback_data='higgs_pdf')],\n",
        "    [InlineKeyboardButton(text='Перейти по ссылке на датасет', url=url)]\n",
        "    ]\n",
        "\n",
        "eda_markup = InlineKeyboardMarkup(inline_keyboard=eda_buttons, row_width=1)\n",
        "higgs_markup = InlineKeyboardMarkup(inline_keyboard=higgs_buttons, row_width=1)"
      ],
      "metadata": {
        "id": "4V6gj7NFVwBk"
      },
      "execution_count": 5,
      "outputs": []
    },
    {
      "cell_type": "code",
      "source": [
        "bot_commands = [\n",
        "        BotCommand(command=\"start\", description=\"Запустить бота\"),\n",
        "        BotCommand(command=\"help\", description=\"Помощь\"),\n",
        "        BotCommand(command=\"eda\", description=\"Просмотр EDA\"),\n",
        "    ]"
      ],
      "metadata": {
        "id": "zx5Yk7cbdqJ-"
      },
      "execution_count": 6,
      "outputs": []
    },
    {
      "cell_type": "code",
      "source": [
        "import os\n",
        "\n",
        "@dp.message(CommandStart())\n",
        "async def cmd_start(message: Message):\n",
        "    #logging.info(f'started chat {message.chat.id}')\n",
        "    if os.path.exists('test.txt') and str(message.chat.id) in open('test.txt', 'r').read():\n",
        "        await message.answer('Бот уже запущен!')\n",
        "    else:\n",
        "        open('test.txt', 'a').write(str(message.chat.id) + '\\n')\n",
        "        await message.answer('Доброго времени суток!')\n",
        "\n",
        "@dp.message(F.text == '/eda')\n",
        "async def cmd_eda(message: Message):\n",
        "    #logging.info(f'activated /eda command, chat: {message.chat.id}')\n",
        "    await message.answer('Выберите тип EDA', reply_markup=eda_markup)\n",
        "\n",
        "@dp.message(F.text == '/help')\n",
        "async def cmd_help(message: Message):\n",
        "    #logging.info(f'activated /help command, chat: {message.chat.id}')\n",
        "    await message.answer('\\n'.join(['/' + bot_command.command + ' - ' + bot_command.description\n",
        "                                   for bot_command in bot_commands]))\n",
        "\n",
        "@dp.callback_query(F.data == 'higgs')\n",
        "async def higgs_callback(callback: CallbackQuery):\n",
        "    #logging.info(f'activated higgs callback, chat: {callback.message.chat.id}')\n",
        "    await callback.message.edit_reply_markup()\n",
        "    await callback.message.answer('Выберите нужное действие', reply_markup=higgs_markup)\n",
        "\n",
        "@dp.callback_query(F.data == 'higgs_desc')\n",
        "async def desc_callback(callback: CallbackQuery):\n",
        "    #logging.info(f'activated higgs_desc callback, chat: {callback.message.chat.id}')\n",
        "    await callback.message.edit_reply_markup()\n",
        "    doc = open('EDA.md', 'r')\n",
        "    await callback.message.answer(doc.read())\n",
        "\n",
        "@dp.callback_query(F.data == 'higgs_pdf')\n",
        "async def desc_callback(callback: CallbackQuery):\n",
        "    #logging.info(f'activated higgs_pdf callback, chat: {callback.message.chat.id}')\n",
        "    await callback.message.edit_reply_markup()\n",
        "    await callback.message.answer_document(document=FSInputFile('eda_higgs.pdf'),\n",
        "                                           caption='PDF-файл с EDA (Higgs Boson)')\n",
        "\n",
        "@dp.callback_query(F.data == 'mumumu')\n",
        "async def mumummu_callback(callback: CallbackQuery):\n",
        "    #logging.info(f'activated mumumu callback, chat: {callback.message.chat.id}')\n",
        "    await callback.message.edit_reply_markup()\n",
        "    await callback.message.answer('Данный тип EDA недоступен!')\n",
        "\n",
        "@dp.message()\n",
        "async def cmd_not_found(message: Message):\n",
        "    #logging.info(f'found unknown command, chat: {message.chat.id}')\n",
        "    await message.answer('Введите /help, чтобы получить справку по командам')\n",
        "\n",
        "#async def set_default_commands(bot):\n",
        "#    await bot.set_my_commands(bot_commands)"
      ],
      "metadata": {
        "id": "DELyIQoKDA06"
      },
      "execution_count": 7,
      "outputs": []
    },
    {
      "cell_type": "code",
      "source": [
        "async def scheduled(wait_for):\n",
        "  while True:\n",
        "    await asyncio.sleep(wait_for)\n",
        "\n",
        "async def main():\n",
        "    #dp.include_router(start_router)\n",
        "    #await set_default_commands(bot)\n",
        "    await bot.delete_webhook(drop_pending_updates=True)\n",
        "    #loop = asyncio.get_event_loop()\n",
        "    #loop.create_task(scheduled(1))\n",
        "    await dp.start_polling(bot)\n",
        "\n",
        "await main()\n",
        "#if __name__ == \"__main__\":\n",
        "#    asyncio.run(main())"
      ],
      "metadata": {
        "id": "No4URIOeA9WV"
      },
      "execution_count": null,
      "outputs": []
    }
  ]
}
